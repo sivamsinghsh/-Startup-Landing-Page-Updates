{
  "nbformat": 4,
  "nbformat_minor": 0,
  "metadata": {
    "colab": {
      "name": "Day2.ipynb",
      "provenance": [],
      "authorship_tag": "ABX9TyObAytyWW5VJEZ75M2HnUXG",
      "include_colab_link": true
    },
    "kernelspec": {
      "name": "python3",
      "display_name": "Python 3"
    },
    "language_info": {
      "name": "python"
    }
  },
  "cells": [
    {
      "cell_type": "markdown",
      "metadata": {
        "id": "view-in-github",
        "colab_type": "text"
      },
      "source": [
        "<a href=\"https://colab.research.google.com/github/sivamsinghsh/-Startup-Landing-Page-Updates/blob/main/Day2.ipynb\" target=\"_parent\"><img src=\"https://colab.research.google.com/assets/colab-badge.svg\" alt=\"Open In Colab\"/></a>"
      ]
    },
    {
      "cell_type": "code",
      "execution_count": 11,
      "metadata": {
        "colab": {
          "base_uri": "https://localhost:8080/"
        },
        "id": "cwjDTiztqHjF",
        "outputId": "6185ada3-8bb5-4df6-ea8e-832a20db7eac"
      },
      "outputs": [
        {
          "output_type": "stream",
          "name": "stdout",
          "text": [
            "HelloAlpha\n",
            "HelloAlpha\n"
          ]
        }
      ],
      "source": [
        "# Data Types\n",
        "# Since everything is an object in Python programming, data types are actually classes and variables are instance (object) of these classes.\n",
        "# Strings\n",
        "# Anything that comes under double quote or single quotes comes under the catogary of string.\n",
        "#For Example\n",
        "print('Hello'+'Alpha')\n",
        "print(\"Hello\"+\"Alpha\")"
      ]
    },
    {
      "cell_type": "code",
      "source": [
        "# Subscript\n",
        "# The method of pulling out a particular elements from a string is called as subscript and the number between the square bracket determines which character you are gonna pull out.\n",
        "# The Subscript just goes up from zero to one and two and so on and so forth.So, whenever you get a result that is just off by one then remeber to check whether if you've started counting from zero or if you started counting from one\n",
        "print(\"Hello\"[0])\n",
        "print(\"Hello\"[1])\n",
        "print(\"Hello\"[2])\n",
        "print(\"Hello\"[3])\n",
        "print(\"Hello\"[4])\n",
        "# print(\"Hello\"[5]) when you try to print this it will show an error by saying string index out of range."
      ],
      "metadata": {
        "colab": {
          "base_uri": "https://localhost:8080/"
        },
        "id": "uvfxZUdEGcE_",
        "outputId": "c9c926ea-9e3e-4bbb-f719-4bef6f908f0d"
      },
      "execution_count": 12,
      "outputs": [
        {
          "output_type": "stream",
          "name": "stdout",
          "text": [
            "H\n",
            "e\n",
            "l\n",
            "l\n",
            "o\n"
          ]
        }
      ]
    },
    {
      "cell_type": "code",
      "source": [
        "#Integers\n",
        "# Numbers without any decimal places are considered as integers.\n",
        "print(123+345)\n",
        "print(123_456_32+232_34) # Computer actually remove those underscore and ignores it, while for us it gives us an ability to easily enter values for data in better way"
      ],
      "metadata": {
        "colab": {
          "base_uri": "https://localhost:8080/"
        },
        "id": "vJyIt7MByAwF",
        "outputId": "d9143d2c-ddbf-447a-cc5b-c371012b8e66"
      },
      "execution_count": 15,
      "outputs": [
        {
          "output_type": "stream",
          "name": "stdout",
          "text": [
            "468\n",
            "12368866\n"
          ]
        }
      ]
    },
    {
      "cell_type": "code",
      "source": [
        "# Float\n",
        "# When we have to deal with decimal values it comes under the catogary of floating point numbers.The floating point can be start anywhere around the number.\n",
        "# Python doesn't have an inbuilt double data type but it has a float data type that works and deals with floating values.\n",
        "print(123.34)"
      ],
      "metadata": {
        "colab": {
          "base_uri": "https://localhost:8080/"
        },
        "id": "NoQJyqiKMFge",
        "outputId": "18f5cef8-e093-4440-e56f-05f3127080d4"
      },
      "execution_count": 19,
      "outputs": [
        {
          "output_type": "stream",
          "name": "stdout",
          "text": [
            "123.34\n"
          ]
        }
      ]
    },
    {
      "cell_type": "code",
      "source": [
        "# Boolean\n",
        "# The boolean data type can have only two values which can be either true or false\n",
        "print(10==9)\n",
        "print(8>5)\n",
        "a=5\n",
        "b=7\n",
        "print(a>b)"
      ],
      "metadata": {
        "colab": {
          "base_uri": "https://localhost:8080/"
        },
        "id": "pTnC5-TtO2pV",
        "outputId": "c8b9caeb-448f-4b7f-ef7f-df4078c21e21"
      },
      "execution_count": 23,
      "outputs": [
        {
          "output_type": "stream",
          "name": "stdout",
          "text": [
            "False\n",
            "True\n",
            "False\n"
          ]
        }
      ]
    }
  ]
}